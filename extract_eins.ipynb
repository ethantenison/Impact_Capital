{
 "cells": [
  {
   "cell_type": "markdown",
   "metadata": {},
   "source": [
    "# Extracting file names, EINs, and Tax Years"
   ]
  },
  {
   "cell_type": "markdown",
   "metadata": {},
   "source": [
    "## Extracting file names, EINs, and Tax Years from the index files\n",
    "\n",
    "Of course, according to [this source](https://appliednonprofitresearch.com/posts/2020/06/skip-the-irs-990-efile-indices/), the indices are not reliable, but they should be good enough. If necessary, we can just pass through the entire directory and extract the information from each return, but that seems wasteful for now."
   ]
  },
  {
   "cell_type": "code",
   "execution_count": null,
   "metadata": {},
   "outputs": [],
   "source": [
    "import pandas as pd\n",
    "from tqdm import tqdm\n",
    "import os\n",
    "import asyncio\n",
    "import aiofiles\n",
    "import logging\n",
    "\n",
    "logging.basicConfig(format='%(asctime)s: %(message)s', filename='extracting.log', level=logging.DEBUG)"
   ]
  },
  {
   "cell_type": "markdown",
   "metadata": {},
   "source": [
    "Note: file `data/index_2014.csv` has a typo on line 39569, which pandas does not like. I manually edited the file to change `,AMAGEMENT` to what I think it should be, `MANAGEMENT`. Additionally, `data/index_2019.csv` has a tax period of `210805`  on line `247851`, which I have not corrected."
   ]
  },
  {
   "cell_type": "code",
   "execution_count": null,
   "metadata": {},
   "outputs": [],
   "source": [
    "years = list(range(2011, 2021))\n",
    "frames = [pd.read_csv(f'data/index_{year}.csv') for year in years]\n",
    "index = pd.concat(frames)\n",
    "\n",
    "index"
   ]
  },
  {
   "cell_type": "code",
   "execution_count": null,
   "metadata": {},
   "outputs": [],
   "source": [
    "index = index[['EIN', 'TAX_PERIOD', 'OBJECT_ID']]\n",
    "index = index.sort_values(['EIN', 'TAX_PERIOD'])\n",
    "index = index.drop_duplicates()\n",
    "# index.to_csv('index/sorted_index.csv', header=True, index=False)"
   ]
  },
  {
   "cell_type": "markdown",
   "metadata": {},
   "source": [
    "## Extracting EINs and Tax Years from the xml files\n",
    "Of course, this will be much slower than the above method, but it will be perfectly accurate.  \n",
    "Note: All the information we need is in the header, so instead of parsing the entire xml file, we will just read the first few lines until we get the information we need. "
   ]
  },
  {
   "cell_type": "code",
   "execution_count": null,
   "metadata": {},
   "outputs": [],
   "source": [
    "columns = ['EIN', 'TAX_YEAR', 'OBJECT_ID']"
   ]
  },
  {
   "cell_type": "markdown",
   "metadata": {},
   "source": [
    "### Extract info from one file"
   ]
  },
  {
   "cell_type": "code",
   "execution_count": null,
   "metadata": {},
   "outputs": [],
   "source": [
    "def extract_one(name, path=None):\n",
    "    if path is None:\n",
    "        path = f'data/{name}_public.xml'\n",
    "    \n",
    "    ein, tax_year = None, None\n",
    "    with open(path) as file:\n",
    "        i = 0\n",
    "        for line in file:\n",
    "            i += 1 # Unfortunately, enumerate does not work with aiofiles objects\n",
    "            if '<EIN>' in line:\n",
    "                ein = int(line.strip()[5:-6]) # remove the EIN tags from the line\n",
    "            if not tax_year and '<TaxYr>' in line:\n",
    "                tax_year = int(line.strip()[7:-8]) # remove the TaxYr tags from the line\n",
    "            if not tax_year and '<TaxYear>' in line:\n",
    "                tax_year = int(line.strip()[9:-10]) # remove the TaxYr tags from the line\n",
    "            \n",
    "            if ein and tax_year: \n",
    "                break\n",
    "            if i > 100:\n",
    "                logging.error(name)\n",
    "                return\n",
    "    \n",
    "    return pd.DataFrame([[ein, tax_year, name]], columns=columns)"
   ]
  },
  {
   "cell_type": "markdown",
   "metadata": {},
   "source": [
    "### Example Usage"
   ]
  },
  {
   "cell_type": "code",
   "execution_count": null,
   "metadata": {},
   "outputs": [],
   "source": [
    "df = pd.DataFrame(columns=columns)\n",
    "\n",
    "one_row = extract_one('201602159349301240')\n",
    "df = df.append(one_row)\n",
    "df"
   ]
  },
  {
   "cell_type": "markdown",
   "metadata": {},
   "source": [
    "### Get a list of xml files in the data directory"
   ]
  },
  {
   "cell_type": "code",
   "execution_count": null,
   "metadata": {},
   "outputs": [],
   "source": [
    "all_files = [file[:-11] for file in os.listdir('data') if file.endswith('_public.xml')]\n",
    "len(all_files)"
   ]
  },
  {
   "cell_type": "markdown",
   "metadata": {},
   "source": [
    "### Extract the EIN and Tax Year from all these files"
   ]
  },
  {
   "cell_type": "code",
   "execution_count": null,
   "metadata": {
    "tags": []
   },
   "outputs": [],
   "source": [
    "df = pd.concat(tqdm([one_row for name in tqdm(all_files) if (one_row := extract_one(name)) is not None]))\n",
    "df"
   ]
  },
  {
   "cell_type": "code",
   "execution_count": null,
   "metadata": {},
   "outputs": [],
   "source": [
    "df = df.sort_values(['EIN', 'TAX_YEAR'])\n",
    "df.to_csv('index/full_index.csv', header=True, index=False)"
   ]
  },
  {
   "cell_type": "code",
   "execution_count": null,
   "metadata": {},
   "outputs": [],
   "source": []
  }
 ],
 "metadata": {
  "kernelspec": {
   "display_name": "Python 3",
   "language": "python",
   "name": "python3"
  },
  "language_info": {
   "codemirror_mode": {
    "name": "ipython",
    "version": 3
   },
   "file_extension": ".py",
   "mimetype": "text/x-python",
   "name": "python",
   "nbconvert_exporter": "python",
   "pygments_lexer": "ipython3",
   "version": "3.8.2"
  }
 },
 "nbformat": 4,
 "nbformat_minor": 4
}
